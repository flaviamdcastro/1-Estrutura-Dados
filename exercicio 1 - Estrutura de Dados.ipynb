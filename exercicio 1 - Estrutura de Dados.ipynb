{
  "cells": [
    {
      "cell_type": "markdown",
      "metadata": {
        "id": "y8FxHgSxL1_m"
      },
      "source": [
        "##Atividade 02 – Como os arquivos estão separados por estados, criar uma lista com o nome “list_uf” que irá conter todas as UFs do Brasil;\n"
      ]
    },
    {
      "cell_type": "code",
      "execution_count": null,
      "metadata": {
        "colab": {
          "base_uri": "https://localhost:8080/"
        },
        "id": "qvQSOQikE60n",
        "outputId": "ee7339c6-434e-4f66-dceb-2bcd2b9945b3"
      },
      "outputs": [],
      "source": [
        "pip install ibge\n"
      ]
    },
    {
      "cell_type": "code",
      "execution_count": 3,
      "metadata": {
        "id": "0YRwpXncKZ26"
      },
      "outputs": [],
      "source": [
        "#Após instalar a biblioteca do IBGE importo o pacote\n",
        "import ibge\n",
        "from ibge.localidades import Estados\n",
        "import os\n",
        "import shutil"
      ]
    },
    {
      "cell_type": "code",
      "execution_count": null,
      "metadata": {
        "colab": {
          "base_uri": "https://localhost:8080/"
        },
        "id": "mZUB-D9aH_vE",
        "outputId": "9f7a55df-e288-4fae-b9a6-43fcabc2bc13"
      },
      "outputs": [],
      "source": [
        "# Buscando dados de Estados da biblioteca do IBGE, verificando o tipo de dado da variável e imprimindo o conteúdo\n",
        "dados_estados = Estados()\n",
        "\n",
        "print (dados_estados)"
      ]
    },
    {
      "cell_type": "code",
      "execution_count": null,
      "metadata": {
        "colab": {
          "base_uri": "https://localhost:8080/"
        },
        "id": "vqF04YSBINTW",
        "outputId": "00c8f695-9758-4fcd-d375-daefc0387860"
      },
      "outputs": [],
      "source": [
        "# Obtendo apenas lista de UFs usando a biblioteca IBGE, verificando o tipo de dado da variável e imprimindo o conteúdo\n",
        "list_uf = dados_estados.getSigla()\n",
        "list_uf.append('BRASIL') \n",
        "print (list_uf)"
      ]
    },
    {
      "cell_type": "markdown",
      "metadata": {
        "id": "emwpkP9yMJuY"
      },
      "source": [
        "##Atividade 03 – Para uma melhor organização do nosso projeto, criar um Dicionário com o nome “dict_diretorio” que irá ajudar a identificar por tipo de arquivo, para qual diretório ele deverá ser movimentado;\n"
      ]
    },
    {
      "cell_type": "code",
      "execution_count": null,
      "metadata": {
        "colab": {
          "base_uri": "https://localhost:8080/",
          "height": 211
        },
        "id": "d2lsoMvIFiTc",
        "outputId": "1ecee9df-de91-41fb-e9e0-33a5099449ad"
      },
      "outputs": [],
      "source": [
        "import os\n",
        "import shutil\n",
        "\n",
        "#Leitura do diterorio e separação dos arquivos em diretórios\n",
        "diretorio = fr'C:\\Users\\User\\Downloads\\Sirius\\1 - Estrutura de Dados'\n",
        "\n",
        "dict_diretorio = os.listdir(diretorio)\n",
        "\n",
        "print (dict_diretorio)"
      ]
    },
    {
      "cell_type": "code",
      "execution_count": null,
      "metadata": {},
      "outputs": [],
      "source": [
        "def criar_dicionario_arquivos(diretorio):\n",
        "  \"\"\"\n",
        "  Cria um dicionário com o tipo de arquivo como chave e uma lista de \n",
        "  nomes de arquivo como valor.\n",
        "\n",
        "  Args:\n",
        "    diretorio: O caminho para o diretório a ser analisado.\n",
        "\n",
        "  Returns:\n",
        "    Um dicionário com os tipos de arquivo e seus respectivos nomes de arquivo.\n",
        "  \"\"\"\n",
        "\n",
        "  dict_arquivos = {}\n",
        "  for filename in os.listdir(diretorio):\n",
        "    if os.path.isfile(os.path.join(diretorio, filename)):\n",
        "      base, ext = os.path.splitext(filename)\n",
        "      if ext not in dict_arquivos:\n",
        "        dict_arquivos[ext] = []\n",
        "      dict_arquivos[ext].append(filename)\n",
        "  return dict_arquivos\n",
        "\n",
        "diretorio = r'C:\\Users\\User\\Downloads\\Sirius\\1 - Estrutura de Dados'\n",
        "dict_arquivos = criar_dicionario_arquivos(diretorio)\n",
        "print(dict_arquivos)"
      ]
    },
    {
      "cell_type": "markdown",
      "metadata": {
        "id": "G1trsoZKQnhB"
      },
      "source": [
        "##Atividade 04 – Após a criação da lista e do dicionário, criar uma rotina para ler o diretório raiz e realizar a movimentação dos arquivos conforme encontra-se no dicionário.\n"
      ]
    },
    {
      "cell_type": "code",
      "execution_count": 14,
      "metadata": {
        "id": "JzD8vUD-E93B"
      },
      "outputs": [],
      "source": [
        "def mover_arquivos(diretorio, dict_arquivos):\n",
        "    \"\"\"\n",
        "    Move os arquivos para suas respectivas pastas, com base no dicionário de arquivos.\n",
        "\n",
        "    Args:\n",
        "        diretorio: O caminho para o diretório raiz.\n",
        "        dict_arquivos: O dicionário com os tipos de arquivo e seus respectivos nomes de arquivo.\n",
        "    \"\"\"\n",
        "\n",
        "    for ext, arquivos in dict_arquivos.items():\n",
        "        if ext == '.csv':  \n",
        "            pasta_destino = os.path.join(diretorio, ext)\n",
        "\n",
        "            # Criar a pasta se ela não existir\n",
        "            try:\n",
        "                os.makedirs(pasta_destino, exist_ok=True)\n",
        "            except OSError as e:\n",
        "                print(f\"Erro ao criar a pasta {pasta_destino}: {e}\")\n",
        "                continue\n",
        "\n",
        "            # Mover os arquivos para a pasta\n",
        "            for arquivo in arquivos:\n",
        "                origem = os.path.join(diretorio, arquivo)\n",
        "                destino = os.path.join(pasta_destino, arquivo)\n",
        "                try:\n",
        "                    shutil.move(origem, destino)\n",
        "                    print(f\"Arquivo {arquivo} movido para {pasta_destino}\")\n",
        "                except OSError as e:\n",
        "                    print(f\"Erro ao mover o arquivo {arquivo}: {e}\")\n",
        "\n",
        "# Chamando a função com o diretório e o dicionário de arquivos\n",
        "mover_arquivos(r'C:\\Users\\User\\Downloads\\Sirius\\1 - Estrutura de Dados', dict_arquivos)"
      ]
    },
    {
      "cell_type": "markdown",
      "metadata": {
        "id": "mSdVah_VQ4Of"
      },
      "source": [
        "##Atividade 05 – Depois de movimentar os arquivos para os diretórios corretos, eles precisam ser organizados por UF. Caso o diretório da UF não exista, o mesmo deverá ser criado em tempo de execução.\n"
      ]
    },
    {
      "cell_type": "code",
      "execution_count": 15,
      "metadata": {
        "id": "dXXceUfIREMg"
      },
      "outputs": [],
      "source": [
        "import os\n",
        "\n",
        "diretorio_csv = r'C:\\Users\\User\\Downloads\\Sirius\\1 - Estrutura de Dados\\.csv'\n",
        "\n",
        "for uf in list_uf:\n",
        "    try:\n",
        "        os.makedirs(os.path.join(diretorio_csv, uf), exist_ok=True)\n",
        "    except OSError as e:\n",
        "        print(f\"Erro ao criar a pasta {uf}: {e}\")\n",
        "        continue\n"
      ]
    },
    {
      "cell_type": "code",
      "execution_count": 20,
      "metadata": {},
      "outputs": [],
      "source": [
        "import re\n",
        "\n",
        "for arquivo in os.listdir(diretorio_csv):\n",
        "    if arquivo.endswith(\".csv\"):\n",
        "        match = re.search(r\"\\_([A-Z]{2})\\.csv$\", arquivo)\n",
        "        if match:\n",
        "            uf = match.group(1)\n",
        "            origem = os.path.join(diretorio_csv, arquivo)\n",
        "            destino = os.path.join(diretorio_csv, uf, arquivo)\n",
        "            try:\n",
        "                shutil.move(origem, destino)\n",
        "                print(f\"Arquivo {arquivo} movido para {destino}\")\n",
        "            except OSError as e:\n",
        "                print(f\"Erro ao mover o arquivo {arquivo}: {e}\")"
      ]
    },
    {
      "cell_type": "code",
      "execution_count": null,
      "metadata": {},
      "outputs": [],
      "source": [
        "type(match)"
      ]
    },
    {
      "cell_type": "markdown",
      "metadata": {
        "id": "L8HyOU-lRHSA"
      },
      "source": [
        "##Atividade 06 – Após “arrumar” o ambiente de trabalho, verificar se restou algum arquivo no diretório raiz (local onde os arquivos foram descompactados). Caso exista, na lista de UF, deverá ser inserido um elemento com o nome “Outro” e no dicionário Diretório também é necessário realizar a inclusão de um diretório para que ele seja movimentado.\n",
        "\n"
      ]
    },
    {
      "cell_type": "code",
      "execution_count": null,
      "metadata": {
        "id": "DPMNwmv6RRQ8"
      },
      "outputs": [],
      "source": [
        "# Leitura do diterorio e separação dos arquivos em diretórios\n",
        "diretorio = fr'C:\\Users\\User\\Downloads\\Sirius\\1 - Estrutura de Dados'\n",
        "\n",
        "lista = os.listdir(diretorio)\n",
        "\n",
        "for controlador in lista:\n",
        "\n",
        "    if not controlador.endswith('csv'):\n",
        "\n",
        "        os.makedirs(fr'C:\\Users\\User\\Downloads\\Sirius\\1 - Estrutura de Dados\\Outros', exist_ok=True)\n",
        "        shutil.move( fr'C:\\Users\\User\\Downloads\\Sirius\\1 - Estrutura de Dados' + '\\\\' + controlador , fr'C:\\Users\\User\\Downloads\\Sirius\\1 - Estrutura de Dados\\Outros')\n",
        "        print(controlador)"
      ]
    }
  ],
  "metadata": {
    "colab": {
      "provenance": []
    },
    "kernelspec": {
      "display_name": "Python 3",
      "name": "python3"
    },
    "language_info": {
      "codemirror_mode": {
        "name": "ipython",
        "version": 3
      },
      "file_extension": ".py",
      "mimetype": "text/x-python",
      "name": "python",
      "nbconvert_exporter": "python",
      "pygments_lexer": "ipython3",
      "version": "3.11.9"
    }
  },
  "nbformat": 4,
  "nbformat_minor": 0
}
